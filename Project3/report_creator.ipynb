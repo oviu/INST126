{
 "cells": [
  {
   "cell_type": "code",
   "execution_count": 34,
   "metadata": {
    "scrolled": true
   },
   "outputs": [],
   "source": [
    "\n",
    "#parses the log file and returns a dictionary with the key being the user's email and the value is a list of their sessions\n",
    "def parse_log(file):\n",
    "    user_log = {}\n",
    "    fh = open(file, \"r\")\n",
    "    text = fh.readlines()\n",
    "    fh.close()\n",
    "    for lines in text:\n",
    "        items = lines.split()\n",
    "        user_email = items[4]\n",
    "        if user_email in user_log:\n",
    "            user_log[user_email].append({\"date\": (\" \").join([items[0], items[1]]), \"activity\": items[2], \"server\": items[3]})\n",
    "        else:\n",
    "            user_log[user_email] = [{\"date\": (\" \").join([items[0], items[1]]), \"activity\": items[2], \"server\": items[3]}]\n",
    "    return user_log\n",
    "\n",
    "user_log = parse_log(\"userlog.log\")\n"
   ]
  }
 ],
 "metadata": {
  "kernelspec": {
   "display_name": "Python 3",
   "language": "python",
   "name": "python3"
  },
  "language_info": {
   "codemirror_mode": {
    "name": "ipython",
    "version": 3
   },
   "file_extension": ".py",
   "mimetype": "text/x-python",
   "name": "python",
   "nbconvert_exporter": "python",
   "pygments_lexer": "ipython3",
   "version": "3.8.6"
  }
 },
 "nbformat": 4,
 "nbformat_minor": 4
}

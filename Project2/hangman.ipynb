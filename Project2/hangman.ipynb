{
 "cells": [
  {
   "cell_type": "code",
   "execution_count": null,
   "metadata": {},
   "outputs": [
    {
     "name": "stdout",
     "output_type": "stream",
     "text": [
      "you have 10 lives left and have used these letters: \n",
      "current word ___\n"
     ]
    }
   ],
   "source": [
    "\"\"\"Hangman Text Game\n",
    "\n",
    "A basic text-based implementation of the game Hangman. Users,\n",
    "have 10 lives to guess all the correct letters of a random\n",
    "encrpyted word. They are not penalized a life if they guess a\n",
    "correct letter, if they use a used letter, or enter something other\n",
    "than a letter. If they win, the encrypted word is decrypted and\n",
    "revealed to them.\n",
    "\"\"\"\n",
    "\n",
    "from random import randint\n",
    "\n",
    "'''Given the encryption flowchart, the reverse decrypt function\n",
    "   is simply subtracting each character ASCII by 1 if even\n",
    "   or add 1 if odd, instead of adding 1 if even and subtracting 1 if odd.'''\n",
    "def decrypt(ciphertext):\n",
    "\t\"\"\"Returns the plaintext from the ciphertext\"\"\"\n",
    "\tplaintext = \"\"\n",
    "\ti = 0\n",
    "\twhile i < len(ciphertext):\n",
    "\t\tif(i % 2 == 0):\n",
    "\t\t\tcipher_ascii = ord(ciphertext[i])\n",
    "\t\t\tplain_ascii = cipher_ascii - 1\n",
    "\t\telse:\n",
    "\t\t\tcipher_ascii = ord(ciphertext[i])\n",
    "\t\t\tplain_ascii = cipher_ascii + 1\n",
    "\t\tplaintext += chr(plain_ascii)\n",
    "\t\ti += 1\n",
    "\treturn plaintext\n",
    "\n",
    "words = [\"WHDSPQZ\", \"XHO\", \"TTDBFRT\", \"QQJYF\", \"ENQD\", \"DNPK\", \"CNTR\", \"EHWHOD\", \"TSVMOHOF\", \"XNOCFQGTM\"]\n",
    "\n",
    "game_word = words[randint(0,9)]\n",
    "hidden_word = len(game_word) * \"_\"\n",
    "letters_used = set()\n",
    "guess_count = 0\n",
    "guess = None\n",
    "\n",
    "while guess_count < 10:\n",
    "\tprint(f\"you have {10 - guess_count} lives left and have used these letters: {''.join(letters_used)}\")\n",
    "\tprint(f\"current word {hidden_word}\")\n",
    "\n",
    "\tguess = input(\"Guess a letter: \").upper()\n",
    "\n",
    "\t#guess should only be a letter and not have been used, anything else redirects to another attempt\n",
    "\tif guess in letters_used or not guess.isalpha() or len(guess) > 1:\n",
    "\t\tprint(\"oops! letter is already in use or invalid guess.\")\n",
    "\t\tcontinue\n",
    "\telse:\n",
    "\t\tletters_used.add(guess)\n",
    "\n",
    "\tguess_indices = [i for i, letter in enumerate(game_word) if letter == guess]\n",
    "\n",
    "\t#if guess_indices is empty that means the guess letter was not found in the word\n",
    "\tif not guess_indices:\n",
    "\t\tguess_count += 1\n",
    "\t\tif guess_count == 10:\n",
    "\t\t\tprint(\"sorry, you lost\")\n",
    "\t\tcontinue\n",
    "\t\n",
    "\t# If guess_indices is not empty, we replace hidden_word '_' characters with guess letter at their respective\n",
    "\t# indices. Lists are mutable so converting string to list to replace indexes then back to string for ease\n",
    "\telse:\n",
    "\t\thidden_word = list(hidden_word)\n",
    "\t\tfor i in guess_indices:\n",
    "\t\t\thidden_word[i] = guess\n",
    "\t\thidden_word = \"\".join(hidden_word)\n",
    "\n",
    "\tif hidden_word == game_word:\n",
    "\t\tprint(hidden_word)\n",
    "\t\tprint(\"you win!\")\n",
    "\t\tprint(f\"The decrypted word is {decrypt(hidden_word)}\")\n",
    "\t\tbreak"
   ]
  },
  {
   "cell_type": "code",
   "execution_count": null,
   "metadata": {},
   "outputs": [],
   "source": []
  },
  {
   "cell_type": "code",
   "execution_count": null,
   "metadata": {},
   "outputs": [],
   "source": []
  }
 ],
 "metadata": {
  "kernelspec": {
   "display_name": "Python 3",
   "language": "python",
   "name": "python3"
  },
  "language_info": {
   "codemirror_mode": {
    "name": "ipython",
    "version": 3
   },
   "file_extension": ".py",
   "mimetype": "text/x-python",
   "name": "python",
   "nbconvert_exporter": "python",
   "pygments_lexer": "ipython3",
   "version": "3.8.6"
  }
 },
 "nbformat": 4,
 "nbformat_minor": 4
}
